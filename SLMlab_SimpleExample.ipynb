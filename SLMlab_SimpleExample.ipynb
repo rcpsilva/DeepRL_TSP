{
  "nbformat": 4,
  "nbformat_minor": 0,
  "metadata": {
    "colab": {
      "name": "SLMlab_SimpleExample.ipynb",
      "provenance": [],
      "toc_visible": true,
      "authorship_tag": "ABX9TyMY2nBKOt0R2WySd5I0S5Uj",
      "include_colab_link": true
    },
    "kernelspec": {
      "name": "python3",
      "display_name": "Python 3"
    }
  },
  "cells": [
    {
      "cell_type": "markdown",
      "metadata": {
        "id": "view-in-github",
        "colab_type": "text"
      },
      "source": [
        "<a href=\"https://colab.research.google.com/github/rcpsilva/DeepRL_TSP/blob/master/SLMlab_SimpleExample.ipynb\" target=\"_parent\"><img src=\"https://colab.research.google.com/assets/colab-badge.svg\" alt=\"Open In Colab\"/></a>"
      ]
    },
    {
      "cell_type": "markdown",
      "metadata": {
        "id": "1_NlMXatrihs",
        "colab_type": "text"
      },
      "source": [
        "## SLM Simple Test\n",
        "\n",
        "Book example o SLM lab for testing installation and dependencies\n"
      ]
    },
    {
      "cell_type": "code",
      "metadata": {
        "id": "0sPNxsqwqrjE",
        "colab_type": "code",
        "colab": {
          "base_uri": "https://localhost:8080/",
          "height": 136
        },
        "outputId": "33f0e6f7-53b4-456d-9c4d-41af16f582a8"
      },
      "source": [
        "!git clone https://github.com/kengz/SLM-Lab.git"
      ],
      "execution_count": 1,
      "outputs": [
        {
          "output_type": "stream",
          "text": [
            "Cloning into 'SLM-Lab'...\n",
            "remote: Enumerating objects: 432, done.\u001b[K\n",
            "remote: Counting objects: 100% (432/432), done.\u001b[K\n",
            "remote: Compressing objects: 100% (260/260), done.\u001b[K\n",
            "remote: Total 20461 (delta 286), reused 269 (delta 156), pack-reused 20029\u001b[K\n",
            "Receiving objects: 100% (20461/20461), 4.18 MiB | 4.55 MiB/s, done.\n",
            "Resolving deltas: 100% (15730/15730), done.\n"
          ],
          "name": "stdout"
        }
      ]
    },
    {
      "cell_type": "code",
      "metadata": {
        "id": "kcim6c87sPuu",
        "colab_type": "code",
        "colab": {}
      },
      "source": [
        ""
      ],
      "execution_count": 0,
      "outputs": []
    }
  ]
}